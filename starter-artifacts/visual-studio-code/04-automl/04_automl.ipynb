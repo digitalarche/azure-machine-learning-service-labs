{
 "cells": [
  {
   "cell_type": "markdown",
   "metadata": {},
   "source": [
    "# Step 1 - Load training data and prepare Workspace #"
   ]
  },
  {
   "cell_type": "code",
   "execution_count": null,
   "metadata": {},
   "outputs": [],
   "source": [
    "import os\n",
    "import numpy as np\n",
    "import pandas as pd\n",
    "from sklearn import linear_model \n",
    "from sklearn.externals import joblib\n",
    "from sklearn.preprocessing import StandardScaler\n",
    "from sklearn.metrics import accuracy_score\n",
    "from sklearn.model_selection import train_test_split\n",
    "import azureml\n",
    "from azureml.core import Run\n",
    "from azureml.core import Workspace\n",
    "from azureml.core.run import Run\n",
    "from azureml.core.experiment import Experiment\n",
    "from azureml.train.automl import AutoMLConfig\n",
    "import pickle\n",
    "\n",
    "# Verify AML SDK Installed\n",
    "# view version history at https://pypi.org/project/azureml-sdk/#history \n",
    "print(\"SDK Version:\", azureml.core.VERSION)\n",
    "\n",
    "\n",
    "# Load our training data set\n",
    "print(\"Current working directory is \", os.path.abspath(os.path.curdir))\n",
    "df_affordability = pd.read_csv('./data/UsedCars_Affordability.csv', delimiter=',')\n",
    "print(df_affordability.head())\n",
    "\n",
    "full_X = df_affordability[[\"Age\", \"KM\"]]\n",
    "full_Y = df_affordability[[\"Affordable\"]]\n",
    "\n",
    "# Create a Workspace\n",
    "#Provide the Subscription ID of your existing Azure subscription\n",
    "subscription_id = \"xxx-xxx-xxx\"\n",
    "\n",
    "#Provide values for the Resource Group and Workspace that will be created\n",
    "resource_group = \"aml-workspace-z\"\n",
    "workspace_name = \"aml-workspace-z\"\n",
    "workspace_region = 'westcentralus' # eastus, westcentralus, southeastasia, australiaeast, westeurope\n",
    "\n",
    "# By using the exist_ok param, if the worskpace already exists we get a reference to the existing workspace\n",
    "ws = Workspace.create(\n",
    "    name = workspace_name,\n",
    "    subscription_id = subscription_id,\n",
    "    resource_group = resource_group, \n",
    "    location = workspace_region,\n",
    "    exist_ok = True)\n",
    "\n",
    "print(\"Workspace Provisioning complete.\")"
   ]
  },
  {
   "cell_type": "markdown",
   "metadata": {},
   "source": [
    "# Step 2 - Define a helper method that will use AutoML to train multiple models and pick the best one #"
   ]
  },
  {
   "cell_type": "code",
   "execution_count": null,
   "metadata": {},
   "outputs": [],
   "source": [
    "def auto_train_model(ws, experiment_name, model_name, full_X, full_Y,training_set_percentage, \n",
    "                     training_target_accuracy):\n",
    "\n",
    "    # start a training run by defining an experiment\n",
    "    experiment = Experiment(ws, experiment_name)\n",
    "    \n",
    "    train_X, test_X, train_Y, test_Y = train_test_split(full_X, full_Y, train_size=training_set_percentage, \n",
    "                                                        random_state=42)\n",
    "\n",
    "    train_Y_array = train_Y.values.flatten()\n",
    "\n",
    "    # Configure the automated ML job\n",
    "    # The model training is configured to run on the local machine\n",
    "    # The values for all settings are documented at \n",
    "    # https://docs.microsoft.com/en-us/azure/machine-learning/service/how-to-configure-auto-train\n",
    "    # We no longer have to scale the input values, as Auto ML will try various data scaling approaches automatically\n",
    "    Automl_config = AutoMLConfig(task = 'classification',\n",
    "                                 primary_metric = 'accuracy',\n",
    "                                 max_time_sec = 12000,\n",
    "                                 iterations = 20,\n",
    "                                 n_cross_validations = 3,\n",
    "                                 exit_score = training_target_accuracy,\n",
    "                                 blacklist_algos = ['kNN','LinearSVM'],\n",
    "                                 X = train_X,\n",
    "                                 y = train_Y_array,\n",
    "                                 path='./04-automl/outputs')\n",
    "\n",
    "    # Execute the job\n",
    "    run = experiment.submit(Automl_config, show_output=True)\n",
    "\n",
    "    # Get the run with the highest accuracy value.\n",
    "    best_run, best_model = run.get_output()\n",
    "\n",
    "    return (best_model, run, best_run)"
   ]
  },
  {
   "cell_type": "markdown",
   "metadata": {},
   "source": [
    "# Step 3 - Execute the AutoML driven training #"
   ]
  },
  {
   "cell_type": "code",
   "execution_count": null,
   "metadata": {},
   "outputs": [],
   "source": [
    "experiment_name = \"Experiment-AutoML-04\"\n",
    "model_name = \"usedcarsmodel\"\n",
    "training_set_percentage = 0.50\n",
    "training_target_accuracy = 0.93\n",
    "best_model, run, best_run = auto_train_model(ws, experiment_name, model_name, full_X, full_Y, \n",
    "                                             training_set_percentage, training_target_accuracy)\n",
    "\n",
    "# Examine some of the metrics for the best performing run\n",
    "import pprint\n",
    "pprint.pprint({k: v for k, v in best_run.get_metrics().items() if isinstance(v, float)})"
   ]
  },
  {
   "cell_type": "markdown",
   "metadata": {},
   "source": [
    "# Step 4 - Try the best model #"
   ]
  },
  {
   "cell_type": "code",
   "execution_count": null,
   "metadata": {},
   "outputs": [],
   "source": [
    "age = 60\n",
    "km = 40000\n",
    "print(best_model.predict( [[age,km]] ))"
   ]
  },
  {
   "cell_type": "markdown",
   "metadata": {},
   "source": [
    "# Step 5 - Register the best performing model for later use and deployment #"
   ]
  },
  {
   "cell_type": "code",
   "execution_count": null,
   "metadata": {},
   "outputs": [],
   "source": [
    "run.register_model(description='AutoML trained used cars classifier')"
   ]
  },
  {
   "cell_type": "code",
   "execution_count": null,
   "metadata": {},
   "outputs": [],
   "source": []
  }
 ],
 "metadata": {
  "kernelspec": {
   "display_name": "Python (azure_automl)",
   "language": "python",
   "name": "azure_automl"
  },
  "language_info": {
   "codemirror_mode": {
    "name": "ipython",
    "version": 3
   },
   "file_extension": ".py",
   "mimetype": "text/x-python",
   "name": "python",
   "nbconvert_exporter": "python",
   "pygments_lexer": "ipython3",
   "version": "3.6.7"
  }
 },
 "nbformat": 4,
 "nbformat_minor": 2
}
