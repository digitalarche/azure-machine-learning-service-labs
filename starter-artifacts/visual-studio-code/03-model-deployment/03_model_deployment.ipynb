{
 "cells": [
  {
   "cell_type": "markdown",
   "metadata": {},
   "source": [
    "# Step 1 - Load training data and define model training function #"
   ]
  },
  {
   "cell_type": "code",
   "execution_count": null,
   "metadata": {},
   "outputs": [],
   "source": [
    "import os\n",
    "import numpy as np\n",
    "import pandas as pd\n",
    "from sklearn import linear_model \n",
    "from sklearn.externals import joblib\n",
    "from sklearn.preprocessing import StandardScaler\n",
    "from sklearn.metrics import accuracy_score\n",
    "from sklearn.model_selection import train_test_split\n",
    "import azureml\n",
    "from azureml.core import Run\n",
    "from azureml.core import Workspace\n",
    "from azureml.core.run import Run\n",
    "from azureml.core.experiment import Experiment\n",
    "from azureml.core.model import Model \n",
    "import pickle\n",
    "import json\n",
    "\n",
    "# Verify AML SDK Installed\n",
    "# view version history at https://pypi.org/project/azureml-sdk/#history \n",
    "print(\"SDK Version:\", azureml.core.VERSION)\n",
    "\n",
    "\n",
    "# Load our training data set\n",
    "print(\"Current working directory is \", os.path.abspath(os.path.curdir))\n",
    "df_affordability = pd.read_csv('./data/UsedCars_Affordability.csv', delimiter=',')\n",
    "print(df_affordability.head())\n",
    "\n",
    "full_X = df_affordability[[\"Age\", \"KM\"]]\n",
    "full_Y = df_affordability[[\"Affordable\"]]\n",
    "\n",
    "# Define a helper method that will train, score and register the classifier using different settings\n",
    "def train_eval_register_model(ws, experiment_name, model_name, full_X, full_Y,training_set_percentage):\n",
    "\n",
    "    # start a training run by defining an experiment\n",
    "    myexperiment = Experiment(ws, experiment_name)\n",
    "    run = myexperiment.start_logging()\n",
    "\n",
    "    train_X, test_X, train_Y, test_Y = train_test_split(full_X, full_Y, \n",
    "                                                        train_size=training_set_percentage, \n",
    "                                                        test_size=1.0-training_set_percentage, \n",
    "                                                        random_state=42)\n",
    "\n",
    "    train_X = train_X.values.astype(float)\n",
    "    train_Y = train_Y.values.ravel()\n",
    "    test_X = test_X.values.astype(float)\n",
    "    test_Y = test_Y.values.ravel()\n",
    "\n",
    "    scaler = StandardScaler()\n",
    "    X_scaled = scaler.fit_transform(train_X)\n",
    "    clf = linear_model.LogisticRegression(C=1, solver='lbfgs')\n",
    "    clf.fit(X_scaled, train_Y)\n",
    "\n",
    "    scaled_inputs = scaler.transform(test_X)\n",
    "    predictions = clf.predict(scaled_inputs)\n",
    "    score = accuracy_score(test_Y, predictions)\n",
    "\n",
    "    print(\"With %0.2f percent of data, model accuracy reached %0.4f.\" % (training_set_percentage, score))\n",
    "\n",
    "    # Log the training metrics to Azure Machine Learning service run history\n",
    "    run.log(\"Training_Set_Percentage\", training_set_percentage)\n",
    "    run.log(\"Accuracy\", score)\n",
    "\n",
    "    # Serialize the model to a pickle file in the outputs folder\n",
    "    output_model_path = 'outputs/' + model_name + '.pkl'\n",
    "    pickle.dump(clf,open(output_model_path,'wb'))\n",
    "    print('Exported model to ', output_model_path)\n",
    "\n",
    "    # Serialize the scaler as a pickle file in the same folder as the model\n",
    "    output_scaler_path = 'outputs/' + 'scaler' + '.pkl'\n",
    "    pickle.dump(scaler,open(output_scaler_path,'wb'))\n",
    "    print('Exported scaler to ', output_scaler_path)\n",
    "    \n",
    "    # notice for the model_path, we supply the name of the outputs folder without a trailing slash\n",
    "    # this will ensure both the model and the scaler get uploaded.\n",
    "    registered_model = Model.register(model_path='outputs', model_name=model_name, workspace=ws)\n",
    "\n",
    "    print(\"Registered Model Name: {} \\nModel ID: {} \\nModel Version: {}\".format(registered_model.name, \n",
    "                                                                                registered_model.id, \n",
    "                                                                                registered_model.version))\n",
    "\n",
    "    run.complete()\n",
    "\n",
    "    return (registered_model, clf, scaler, score, run)"
   ]
  },
  {
   "cell_type": "markdown",
   "metadata": {},
   "source": [
    "# Step 2 - Retrieve the AML Workspace and Train a model #"
   ]
  },
  {
   "cell_type": "markdown",
   "metadata": {},
   "source": [
    "## Create a workspace"
   ]
  },
  {
   "cell_type": "code",
   "execution_count": null,
   "metadata": {},
   "outputs": [],
   "source": [
    "# Provide the Subscription ID of your existing Azure subscription\n",
    "subscription_id = \"xxx-xxx-xxx\"\n",
    "\n",
    "# Provide values for the Resource Group and Workspace that will be created\n",
    "resource_group = \"service-labs\"\n",
    "workspace_name = \"service-labs-ws\"\n",
    "workspace_region = 'eastus'  # eastus, westcentralus, southeastasia, australiaeast, westeurope"
   ]
  },
  {
   "cell_type": "code",
   "execution_count": null,
   "metadata": {},
   "outputs": [],
   "source": [
    "# By using the exist_ok param, if the worskpace already exists we get a reference to the existing workspace\n",
    "ws = Workspace.create(\n",
    "    name = workspace_name,\n",
    "    subscription_id = subscription_id,\n",
    "    resource_group = resource_group, \n",
    "    location = workspace_region,\n",
    "    exist_ok = True)\n",
    "\n",
    "print(\"Workspace Provisioning complete.\")"
   ]
  },
  {
   "cell_type": "markdown",
   "metadata": {},
   "source": [
    "## Run experiment"
   ]
  },
  {
   "cell_type": "code",
   "execution_count": null,
   "metadata": {},
   "outputs": [],
   "source": [
    "# Create an experiment, log metrics and register the created model\n",
    "experiment_name = \"Experiment-03-30\"\n",
    "model_name = \"usedcarsmodel\"\n",
    "training_set_percentage = 0.50\n",
    "print('Starting Experiment: ', experiment_name)\n",
    "registered_model, model, scaler, score, run = train_eval_register_model(ws, experiment_name, \n",
    "                                                                        model_name, full_X, full_Y, \n",
    "                                                                        training_set_percentage)\n",
    "print('Experiment complete!')"
   ]
  },
  {
   "cell_type": "markdown",
   "metadata": {},
   "source": [
    "# Step 3 - Download the registered model, re-load  the model and verify it still works #"
   ]
  },
  {
   "cell_type": "code",
   "execution_count": null,
   "metadata": {},
   "outputs": [],
   "source": [
    "# Download the model to a local directory\n",
    "model_path = Model.get_model_path(model_name, _workspace=ws)\n",
    "age = 60\n",
    "km = 40000\n",
    "\n",
    "# Re-load the model\n",
    "scaler = pickle.load(open(os.path.join(model_path,'scaler.pkl'),'rb'))\n",
    "scaled_input = scaler.transform([[age, km]])\n",
    "model2 = pickle.load(open(os.path.join(model_path,'usedcarsmodel.pkl'), 'rb'))\n",
    "\n",
    "# Use the loaded model to make a prediction\n",
    "prediction = model2.predict(scaled_input)\n",
    "print(prediction)\n",
    "prediction_json = json.dumps(prediction.tolist())\n",
    "print(prediction_json)"
   ]
  },
  {
   "cell_type": "markdown",
   "metadata": {},
   "source": [
    "# Step 4 - Create a Conda dependencies environment file #"
   ]
  },
  {
   "cell_type": "code",
   "execution_count": null,
   "metadata": {},
   "outputs": [],
   "source": [
    "from azureml.core.conda_dependencies import CondaDependencies \n",
    "\n",
    "mycondaenv = CondaDependencies.create(conda_packages=['scikit-learn','numpy','pandas'])\n",
    "\n",
    "with open(\"mydeployenv.yml\",\"w\") as f:\n",
    "    f.write(mycondaenv.serialize_to_string())"
   ]
  },
  {
   "cell_type": "markdown",
   "metadata": {},
   "source": [
    "# Step 5 - Create container image configuration #"
   ]
  },
  {
   "cell_type": "code",
   "execution_count": null,
   "metadata": {},
   "outputs": [],
   "source": [
    "# Create the scoring script\n",
    "# See the scoring script available in ./score.py\n",
    "\n",
    "# Build the ContainerImage\n",
    "runtime = \"python\" \n",
    "driver_file = \"score.py\"\n",
    "conda_file = \"mydeployenv.yml\"\n",
    "\n",
    "from azureml.core.image import ContainerImage\n",
    "\n",
    "image_config = ContainerImage.image_configuration(execution_script = driver_file,\n",
    "                                                  runtime = runtime,\n",
    "                                                  conda_file = conda_file)"
   ]
  },
  {
   "cell_type": "markdown",
   "metadata": {},
   "source": [
    "# Step 6 - Create ACI configuration #"
   ]
  },
  {
   "cell_type": "code",
   "execution_count": null,
   "metadata": {},
   "outputs": [],
   "source": [
    "from azureml.core.webservice import AciWebservice, Webservice\n",
    "\n",
    "aci_config = AciWebservice.deploy_configuration(\n",
    "    cpu_cores = 1, \n",
    "    memory_gb = 1, \n",
    "    tags = {'name':'Azure ML ACI'}, \n",
    "    description = 'This is a great example.')"
   ]
  },
  {
   "cell_type": "markdown",
   "metadata": {},
   "source": [
    "# Step 7 -Deploy the webservice to ACI #"
   ]
  },
  {
   "cell_type": "code",
   "execution_count": null,
   "metadata": {},
   "outputs": [],
   "source": [
    "service_name = \"usedcarsmlservice01\"\n",
    "\n",
    "webservice = Webservice.deploy_from_model(\n",
    "  workspace=ws, \n",
    "  name=service_name, \n",
    "  deployment_config=aci_config,\n",
    "  models = [registered_model], \n",
    "  image_config=image_config, \n",
    "  )"
   ]
  },
  {
   "cell_type": "markdown",
   "metadata": {},
   "source": [
    "# Step 8 - Test the ACI deployed webservice #"
   ]
  },
  {
   "cell_type": "code",
   "execution_count": null,
   "metadata": {},
   "outputs": [],
   "source": [
    "import json\n",
    "age = 60\n",
    "km = 40000\n",
    "test_data  = json.dumps([[age,km]])\n",
    "print(test_data)\n",
    "webservice = Webservice(workspace=ws, name=service_name)\n",
    "# If the webservice is not ready, run this cell again...\n",
    "result = webservice.run(input_data=test_data)\n",
    "print(result)"
   ]
  },
  {
   "cell_type": "markdown",
   "metadata": {},
   "source": [
    "# Step 9 - Provision an AKS cluster #"
   ]
  },
  {
   "cell_type": "code",
   "execution_count": null,
   "metadata": {},
   "outputs": [],
   "source": [
    "from azureml.core.compute import AksCompute, ComputeTarget\n",
    "from azureml.core.webservice import Webservice, AksWebservice\n",
    "\n",
    "# Use the default configuration, overriding the default location to a known region that supports AKS\n",
    "prov_config = AksCompute.provisioning_configuration(location='eastus')\n",
    "\n",
    "aks_name = 'aks-cluster01' \n",
    "\n",
    "# Create the cluster\n",
    "aks_target = ComputeTarget.create(workspace = ws, \n",
    "                                  name = aks_name, \n",
    "                                  provisioning_configuration = prov_config)\n",
    "\n",
    "\n",
    "# Wait for cluster to be ready\n",
    "aks_target.wait_for_completion(show_output = True)\n",
    "print(aks_target.provisioning_state)\n",
    "print(aks_target.provisioning_errors)"
   ]
  },
  {
   "cell_type": "markdown",
   "metadata": {},
   "source": [
    "# Step 10 - Deploy webservice to AKS #"
   ]
  },
  {
   "cell_type": "code",
   "execution_count": null,
   "metadata": {},
   "outputs": [],
   "source": [
    "# Create the web service configuration (using defaults)\n",
    "aks_config = AksWebservice.deploy_configuration()\n",
    "\n",
    "aks_service_name ='usedcarsaksservice'\n",
    "\n",
    "aks_service = Webservice.deploy_from_model(\n",
    "  workspace=ws, \n",
    "  name=aks_service_name, \n",
    "  deployment_config=aks_config,\n",
    "  models = [registered_model], \n",
    "  image_config=image_config,\n",
    "  deployment_target=aks_target\n",
    "  )\n",
    "\n",
    "\n",
    "aks_service.wait_for_deployment(show_output = True)\n",
    "print(aks_service.state)"
   ]
  },
  {
   "cell_type": "markdown",
   "metadata": {},
   "source": [
    "# Step 11 - Test the AKS deployed webservice #"
   ]
  },
  {
   "cell_type": "code",
   "execution_count": null,
   "metadata": {},
   "outputs": [],
   "source": [
    "import json\n",
    "age = 60\n",
    "km = 40000\n",
    "test_data  = json.dumps([[age,km]])\n",
    "print(test_data)\n",
    "result = aks_service.run(input_data=test_data)\n",
    "print(result)"
   ]
  },
  {
   "cell_type": "code",
   "execution_count": null,
   "metadata": {},
   "outputs": [],
   "source": []
  }
 ],
 "metadata": {
  "kernelspec": {
   "display_name": "Python 3.6 - AzureML",
   "language": "python",
   "name": "python3-azureml"
  },
  "language_info": {
   "codemirror_mode": {
    "name": "ipython",
    "version": 3
   },
   "file_extension": ".py",
   "mimetype": "text/x-python",
   "name": "python",
   "nbconvert_exporter": "python",
   "pygments_lexer": "ipython3",
   "version": "3.6.9"
  }
 },
 "nbformat": 4,
 "nbformat_minor": 2
}
