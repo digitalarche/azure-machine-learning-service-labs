{
 "cells": [
  {
   "cell_type": "markdown",
   "metadata": {},
   "source": [
    "# Step 1 - Create or retrieve your Azure ML Workspace #"
   ]
  },
  {
   "cell_type": "code",
   "execution_count": null,
   "metadata": {},
   "outputs": [],
   "source": [
    "# Provide the Subscription ID of your existing Azure subscription\n",
    "subscription_id = \"xxx-xxx-xxx\"\n",
    "\n",
    "# Provide values for the Resource Group and Workspace that will be created\n",
    "resource_group = \"service-labs\"\n",
    "workspace_name = \"service-labs-ws\"\n",
    "workspace_region = \"eastus\"  # eastus, westcentralus, southeastasia, australiaeast, westeurope"
   ]
  },
  {
   "cell_type": "code",
   "execution_count": null,
   "metadata": {},
   "outputs": [],
   "source": [
    "import azureml\n",
    "from azureml.core import Workspace\n",
    "\n",
    "print(\"SDK Version:\", azureml.core.VERSION)\n",
    "\n",
    "# By using the exist_ok param, if the worskpace already exists we get a reference to the existing workspace\n",
    "ws = Workspace.create(\n",
    "    name = workspace_name,\n",
    "    subscription_id = subscription_id,\n",
    "    resource_group = resource_group, \n",
    "    location = workspace_region,\n",
    "    exist_ok = True)\n",
    "\n",
    "print(\"Workspace Provisioning complete.\")"
   ]
  },
  {
   "cell_type": "markdown",
   "metadata": {},
   "source": [
    "# Step 2 - Provision an IoT Hub and an IoT Edge Device #"
   ]
  },
  {
   "cell_type": "markdown",
   "metadata": {},
   "source": [
    "If you are using **Visual Studio Code**, please ensure that Azure CLI is installed on your local machine. You can find the instructions on installing Azure CLI at: https://docs.microsoft.com/en-us/cli/azure/install-azure-cli?view=azure-cli-latest"
   ]
  },
  {
   "cell_type": "markdown",
   "metadata": {},
   "source": [
    "**Log in Azure CLI**"
   ]
  },
  {
   "cell_type": "code",
   "execution_count": null,
   "metadata": {},
   "outputs": [],
   "source": [
    "!az login"
   ]
  },
  {
   "cell_type": "markdown",
   "metadata": {},
   "source": [
    "**Set the subcription**"
   ]
  },
  {
   "cell_type": "code",
   "execution_count": null,
   "metadata": {},
   "outputs": [],
   "source": [
    "!az account set --subscription $subscription_id"
   ]
  },
  {
   "cell_type": "markdown",
   "metadata": {},
   "source": [
    "**You will need to use the Azure IoT extension to the Azure CLI**"
   ]
  },
  {
   "cell_type": "code",
   "execution_count": null,
   "metadata": {},
   "outputs": [],
   "source": [
    "!az extension add --name azure-cli-iot-ext"
   ]
  },
  {
   "cell_type": "markdown",
   "metadata": {},
   "source": [
    "### Provision an IoT Hub"
   ]
  },
  {
   "cell_type": "code",
   "execution_count": null,
   "metadata": {},
   "outputs": [],
   "source": [
    "# Azure IoT hub name\n",
    "iot_hub_name=\"sl-iot-hub\"\n",
    "# Pick a name or ID for your IoT Edge device\n",
    "iot_device_id=\"slEdgeDevice\""
   ]
  },
  {
   "cell_type": "markdown",
   "metadata": {},
   "source": [
    "**It will take 2-3 minutes to create the IoT Hub**"
   ]
  },
  {
   "cell_type": "code",
   "execution_count": null,
   "metadata": {},
   "outputs": [],
   "source": [
    "# Create a new IoT hub\n",
    "!az iot hub create --resource-group $resource_group --name $iot_hub_name --sku S1"
   ]
  },
  {
   "cell_type": "code",
   "execution_count": null,
   "metadata": {},
   "outputs": [],
   "source": [
    "# Register an IoT Edge device (create a new entry in the Iot Hub)\n",
    "!az iot hub device-identity create --hub-name $iot_hub_name --device-id $iot_device_id --edge-enabled"
   ]
  },
  {
   "cell_type": "code",
   "execution_count": null,
   "metadata": {
    "scrolled": true
   },
   "outputs": [],
   "source": [
    "# Get the connection string that you will need to enter in the IoT Edge device\n",
    "!az iot hub device-identity show-connection-string --device-id $iot_device_id --hub-name $iot_hub_name"
   ]
  },
  {
   "cell_type": "markdown",
   "metadata": {},
   "source": [
    "### Provision an IoT Edge Device"
   ]
  },
  {
   "cell_type": "code",
   "execution_count": null,
   "metadata": {},
   "outputs": [],
   "source": [
    "# Name of the IoT Edge device VM\n",
    "iot_edge_device_name = \"EdgeVM\"\n",
    "# Image for the IoT Edge device VM\n",
    "device_vm = \"microsoft_iot_edge:iot_edge_vm_ubuntu:ubuntu_1604_edgeruntimeonly:latest\"\n",
    "# User name\n",
    "vm_username = \"azureuser\""
   ]
  },
  {
   "cell_type": "code",
   "execution_count": null,
   "metadata": {},
   "outputs": [],
   "source": [
    "!az vm image terms accept --urn $device_vm"
   ]
  },
  {
   "cell_type": "markdown",
   "metadata": {},
   "source": [
    "**It will take 2-3 minutes to create the IoT Edge VM**\n",
    "\n",
    "From the output below, save the **publicIpAddress** of the IoT edge device VM for later use."
   ]
  },
  {
   "cell_type": "code",
   "execution_count": null,
   "metadata": {},
   "outputs": [],
   "source": [
    "!az vm create --resource-group $resource_group --name $iot_edge_device_name --image $device_vm --admin-username $vm_username --generate-ssh-keys"
   ]
  },
  {
   "cell_type": "markdown",
   "metadata": {},
   "source": [
    "## Enter the connection string into your IoT Edge device ##\n",
    "\n",
    "Copy the connection string from the `show-connection-string` command above. Replace the following with your connection string within single quotes in the cell below and then run the cell.\n",
    "\n",
    "'HostName=sl-iot-hub.azure-devices.net;DeviceId=slEdgeDevice;SharedAccessKey=5oOVh9fFGR2iafdzfrKLvyKJto6cm30XsaLegWu8jrs='"
   ]
  },
  {
   "cell_type": "code",
   "execution_count": null,
   "metadata": {},
   "outputs": [],
   "source": [
    "!az vm run-command invoke -g $resource_group -n $iot_edge_device_name --command-id RunShellScript --script \"/etc/iotedge/configedge.sh 'HostName=sl-iot-hub.azure-devices.net;DeviceId=slEdgeDevice;SharedAccessKey=5oOVh9fFGR2iafdzfrKLvyKJto6cm30XsaLegWu8jrs='\""
   ]
  },
  {
   "cell_type": "markdown",
   "metadata": {},
   "source": [
    "# Step 3 - Build the ContainerImage for the IoT Edge Module #"
   ]
  },
  {
   "cell_type": "markdown",
   "metadata": {},
   "source": [
    "## Register the pretrained Anomaly Detection Model"
   ]
  },
  {
   "cell_type": "code",
   "execution_count": null,
   "metadata": {},
   "outputs": [],
   "source": [
    "from azureml.core.model import Model\n",
    "\n",
    "model = Model.register(model_path = \"./model.pkl\",\n",
    "                       model_name = \"anomaly-detector\", \n",
    "                       description = \"Anomaly detector service\", \n",
    "                       workspace = ws)\n",
    "\n",
    "print(\"Model Name: {} \\nModel Description: {} \\nModel Version: {}\".format(model.name, \n",
    "                                                                                model.description, model.version))"
   ]
  },
  {
   "cell_type": "markdown",
   "metadata": {},
   "source": [
    "## Package Model\n",
    "\n",
    "You can review the accompanying scoring script ` iot_score.py` that will be used to make real-time inferences using the registered model."
   ]
  },
  {
   "cell_type": "markdown",
   "metadata": {},
   "source": [
    "**Create dependencies to include in the environment**"
   ]
  },
  {
   "cell_type": "code",
   "execution_count": null,
   "metadata": {},
   "outputs": [],
   "source": [
    "print(\"Creating conda dependencies file locally...\")\n",
    "from azureml.core.conda_dependencies import CondaDependencies \n",
    "conda_packages = ['numpy==1.16.2', 'pandas==0.23.4', 'scikit-learn==0.20.3']\n",
    "pip_packages = ['azureml-defaults']\n",
    "mycondaenv = CondaDependencies.create(conda_packages=conda_packages, pip_packages=pip_packages)\n",
    "\n",
    "conda_file = \"myenv.yml\"\n",
    "with open(conda_file, 'w') as f:\n",
    "    f.write(mycondaenv.serialize_to_string())"
   ]
  },
  {
   "cell_type": "markdown",
   "metadata": {},
   "source": [
    "*The next cell may take 5-10 minutes to complete*"
   ]
  },
  {
   "cell_type": "code",
   "execution_count": null,
   "metadata": {},
   "outputs": [],
   "source": [
    "from azureml.core.image import ContainerImage, Image\n",
    "\n",
    "runtime = \"python\" \n",
    "driver_file = \"iot_score.py\"\n",
    "\n",
    "image_config = ContainerImage.image_configuration(execution_script = driver_file,\n",
    "                                                  runtime = runtime,\n",
    "                                                  conda_file = conda_file)\n",
    "\n",
    "image = Image.create(name = \"iotimage\",\n",
    "                     models = [model],\n",
    "                     image_config = image_config, \n",
    "                     workspace = ws)\n",
    "\n",
    "image.wait_for_creation(show_output = True)"
   ]
  },
  {
   "cell_type": "markdown",
   "metadata": {},
   "source": [
    "# Step 4 - Deploy the modules #\n",
    "\n",
    "Create a deployment.json file that contains the modules you want to deploy to the device and the routes. Then push this file to the IoT Hub, which will then send it to the IoT Edge device. The IoT Edge agent will then pull the Docker images and run them."
   ]
  },
  {
   "cell_type": "markdown",
   "metadata": {},
   "source": [
    "**Get your container details**"
   ]
  },
  {
   "cell_type": "code",
   "execution_count": null,
   "metadata": {},
   "outputs": [],
   "source": [
    "container_reg = image.image_location\n",
    "reg_name=container_reg.split(\"/\")[-2]\n",
    "reg_name=reg_name.split(\".\")[-3]\n",
    "container_url = \"\\\"\" + image.image_location + \"\\\",\"\n",
    "subscription_id = ws.subscription_id\n",
    "print('{}'.format(image.image_location))\n",
    "print('{}'.format(reg_name))\n",
    "print('{}'.format(subscription_id))\n",
    "from azure.mgmt.containerregistry import ContainerRegistryManagementClient\n",
    "from azure.mgmt import containerregistry\n",
    "client = ContainerRegistryManagementClient(ws._auth, subscription_id)\n",
    "result= client.registries.list_credentials(resource_group, reg_name, custom_headers=None, raw=False)\n",
    "username = result.username\n",
    "password = result.passwords[0].value"
   ]
  },
  {
   "cell_type": "markdown",
   "metadata": {},
   "source": [
    "**Update the deployment template**"
   ]
  },
  {
   "cell_type": "code",
   "execution_count": null,
   "metadata": {},
   "outputs": [],
   "source": [
    "module_name = \"machinelearningmodule\"\n",
    "file = open('deployment-template.json')\n",
    "contents = file.read()\n",
    "contents = contents.replace('__MODULE_NAME', module_name)\n",
    "contents = contents.replace('__REGISTRY_NAME', reg_name)\n",
    "contents = contents.replace('__REGISTRY_USER_NAME', username)\n",
    "contents = contents.replace('__REGISTRY_PASSWORD', password)\n",
    "contents = contents.replace('__REGISTRY_IMAGE_LOCATION', image.image_location)\n",
    "with open('./deployment.json', 'wt', encoding='utf-8') as output_file:\n",
    "    output_file.write(contents)"
   ]
  },
  {
   "cell_type": "markdown",
   "metadata": {},
   "source": [
    "## Push the deployment JSON to the IOT Hub"
   ]
  },
  {
   "cell_type": "code",
   "execution_count": null,
   "metadata": {},
   "outputs": [],
   "source": [
    "!az iot edge set-modules --device-id $iot_device_id --hub-name $iot_hub_name --content deployment.json"
   ]
  },
  {
   "cell_type": "markdown",
   "metadata": {},
   "source": [
    "# Step 5 - Examine the scored messages #"
   ]
  },
  {
   "attachments": {},
   "cell_type": "markdown",
   "metadata": {},
   "source": [
    "1. From within Azure Portal, navigate to your resource group and select your IoT hub: **sl-iot-hub**. \n",
    "\n",
    "2. From the `Automatic Device Management` section of your IoT hub, select **IoTEdge, slEdgeDevice**.\n",
    "\n",
    "3. In the `slEdgeDevice` edge device page, confirm that the two added modules **tempSensor** and **machinelearningmodule** are in **running** status. It may take about 5-10 minutes for the two new modules to appear and start running. Once you see a `RUNTIME STATUS` of `running` for all modules you can proceed.\n",
    "\n",
    "4. From your local machine open a new `Command Prompt` window.\n",
    "\n",
    "5. Connect to your VM via SSH, using the `publicIpAddress` you acquired previously.\n",
    "    ```\n",
    "    ssh azureuser@{publicIpAddress}\n",
    "    ```\n",
    "6. View the anomaly detection scored messages being sent by the `machinelearningmodule` by running the following command.\n",
    "    ```\n",
    "    iotedge logs machinelearningmodule -f\n",
    "    ```"
   ]
  },
  {
   "cell_type": "code",
   "execution_count": null,
   "metadata": {},
   "outputs": [],
   "source": []
  }
 ],
 "metadata": {
  "authors": [
   {
    "name": "raymondl"
   }
  ],
  "kernelspec": {
   "display_name": "Python 3.6 - AzureML",
   "language": "python",
   "name": "python3-azureml"
  },
  "language_info": {
   "codemirror_mode": {
    "name": "ipython",
    "version": 3
   },
   "file_extension": ".py",
   "mimetype": "text/x-python",
   "name": "python",
   "nbconvert_exporter": "python",
   "pygments_lexer": "ipython3",
   "version": "3.6.9"
  }
 },
 "nbformat": 4,
 "nbformat_minor": 2
}
