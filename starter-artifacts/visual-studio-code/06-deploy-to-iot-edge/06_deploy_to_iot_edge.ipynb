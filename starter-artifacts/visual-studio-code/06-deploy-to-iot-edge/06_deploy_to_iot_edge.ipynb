{
 "cells": [
  {
   "cell_type": "markdown",
   "metadata": {},
   "source": [
    "# Step 1 - Create or retrieve your Azure ML Workspace #"
   ]
  },
  {
   "cell_type": "code",
   "execution_count": null,
   "metadata": {},
   "outputs": [],
   "source": [
    "from azureml.core import Workspace\n",
    "from azureml.core.model import Model \n",
    "#Provide the Subscription ID of your existing Azure subscription\n",
    "subscription_id = \"xxx-xxx-xxx\"\n",
    "\n",
    "#Provide values for the Resource Group and Workspace that will be created\n",
    "resource_group = \"aml-workspace-z\"\n",
    "workspace_name = \"aml-workspace-z\"\n",
    "workspace_region = 'westcentralus' # eastus, westcentralus, southeastasia, australiaeast, westeurope\n",
    "\n",
    "# By using the exist_ok param, if the worskpace already exists we get a reference to the existing workspace\n",
    "ws = Workspace.create(\n",
    "    name = workspace_name,\n",
    "    subscription_id = subscription_id,\n",
    "    resource_group = resource_group, \n",
    "    location = workspace_region,\n",
    "    exist_ok = True)\n",
    "\n",
    "print(\"Workspace Provisioning complete.\")"
   ]
  },
  {
   "cell_type": "markdown",
   "metadata": {},
   "source": [
    "# Step 2 - Build the ContainerImage for the IoT Edge Module #"
   ]
  },
  {
   "cell_type": "code",
   "execution_count": null,
   "metadata": {},
   "outputs": [],
   "source": [
    "from azureml.core.image import ContainerImage, Image\n",
    "\n",
    "runtime = \"python\" \n",
    "driver_file = \"iot_score.py\"\n",
    "conda_file = \"myenv.yml\"\n",
    "\n",
    "image_config = ContainerImage.image_configuration(execution_script = driver_file,\n",
    "                                                  runtime = runtime,\n",
    "                                                  conda_file = conda_file)\n",
    "\n",
    "model = Model.register(model_path = \"model.pkl\",\n",
    "                       model_name = \"iot_model.pkl\",\n",
    "                       workspace = ws)\n",
    "\n",
    "image = Image.create(name = \"iotimage\",\n",
    "                     # this is the model object \n",
    "                     models = [model],\n",
    "                     image_config = image_config, \n",
    "                     workspace = ws)\n",
    "image.wait_for_creation(show_output = True)"
   ]
  },
  {
   "cell_type": "code",
   "execution_count": null,
   "metadata": {},
   "outputs": [],
   "source": []
  }
 ],
 "metadata": {
  "kernelspec": {
   "display_name": "Python (azure_automl)",
   "language": "python",
   "name": "azure_automl"
  },
  "language_info": {
   "codemirror_mode": {
    "name": "ipython",
    "version": 3
   },
   "file_extension": ".py",
   "mimetype": "text/x-python",
   "name": "python",
   "nbconvert_exporter": "python",
   "pygments_lexer": "ipython3",
   "version": "3.6.7"
  }
 },
 "nbformat": 4,
 "nbformat_minor": 2
}
