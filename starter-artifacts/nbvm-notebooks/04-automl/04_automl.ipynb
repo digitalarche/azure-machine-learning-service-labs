{
 "cells": [
  {
   "cell_type": "markdown",
   "metadata": {},
   "source": [
    "# Step 1 - Create Workspace and prepare training data"
   ]
  },
  {
   "cell_type": "code",
   "execution_count": null,
   "metadata": {},
   "outputs": [],
   "source": [
    "import os\n",
    "import numpy as np\n",
    "import pandas as pd\n",
    "from sklearn import linear_model \n",
    "from sklearn.externals import joblib\n",
    "from sklearn.preprocessing import StandardScaler\n",
    "from sklearn.metrics import accuracy_score\n",
    "from sklearn.model_selection import train_test_split\n",
    "import azureml\n",
    "from azureml.core import Run\n",
    "from azureml.core import Workspace\n",
    "from azureml.core.run import Run\n",
    "from azureml.core.experiment import Experiment\n",
    "from azureml.train.automl import AutoMLConfig\n",
    "from azureml.data.azure_storage_datastore import AzureBlobDatastore\n",
    "from azureml.core import Dataset\n",
    "import pickle\n",
    "\n",
    "# Verify AML SDK Installed\n",
    "# view version history at https://pypi.org/project/azureml-sdk/#history \n",
    "print(\"SDK Version:\", azureml.core.VERSION)"
   ]
  },
  {
   "cell_type": "markdown",
   "metadata": {},
   "source": [
    "## Create a workspace"
   ]
  },
  {
   "cell_type": "code",
   "execution_count": null,
   "metadata": {},
   "outputs": [],
   "source": [
    "# Provide the Subscription ID of your existing Azure subscription\n",
    "subscription_id = \"xxx-xxx-xxx\"\n",
    "\n",
    "# Provide values for the Resource Group and Workspace that will be created\n",
    "resource_group = \"service-labs\"\n",
    "workspace_name = \"service-labs-ws\"\n",
    "workspace_region = 'eastus'  # eastus, westcentralus, southeastasia, australiaeast, westeurope"
   ]
  },
  {
   "cell_type": "code",
   "execution_count": null,
   "metadata": {},
   "outputs": [],
   "source": [
    "# By using the exist_ok param, if the worskpace already exists we get a reference to the existing workspace\n",
    "ws = Workspace.create(\n",
    "    name = workspace_name,\n",
    "    subscription_id = subscription_id,\n",
    "    resource_group = resource_group, \n",
    "    location = workspace_region,\n",
    "    exist_ok = True)\n",
    "\n",
    "print(\"Workspace Provisioning complete.\")"
   ]
  },
  {
   "cell_type": "markdown",
   "metadata": {},
   "source": [
    "## Create Azure Machine Learning TabularDataset\n",
    "\n",
    "Upload the training data to the default workspace datastore which is backed by the Azure blob storage. Next, using the training data saved in the default workspace datastore, we will create an unregistered TabularDataset pointing to the path in the datastore. This dataset reference, will allow us to seamlessly access the training data during model training without worrying about connection strings or data paths."
   ]
  },
  {
   "cell_type": "code",
   "execution_count": null,
   "metadata": {},
   "outputs": [],
   "source": [
    "# check current working directory\n",
    "print(\"Current working directory is \", os.path.abspath(os.path.curdir))\n",
    "\n",
    "# upload training dataset to default workspace datastore\n",
    "datastore = ws.get_default_datastore()\n",
    "datastore.upload_files(files = ['./data/UsedCars_Affordability.csv'],\n",
    "                       target_path = 'train-dataset/tabular/',\n",
    "                       overwrite = True,\n",
    "                       show_progress = True)\n",
    "\n",
    "# create TabularDataset reference\n",
    "dataset = Dataset.Tabular.from_delimited_files(path = [(datastore, \n",
    "                                                        'train-dataset/tabular/UsedCars_Affordability.csv')])\n",
    "\n",
    "# target or label column name\n",
    "target_column_name = 'Affordable'\n",
    "\n",
    "# preview the first 5 rows of the dataset\n",
    "dataset.take(5).to_pandas_dataframe()"
   ]
  },
  {
   "cell_type": "markdown",
   "metadata": {},
   "source": [
    "# Step 2 - Define a helper method that will use AutoML to train multiple models and pick the best one #"
   ]
  },
  {
   "cell_type": "code",
   "execution_count": null,
   "metadata": {},
   "outputs": [],
   "source": [
    "def auto_train_model(ws, experiment_name, dataset, target_column_name, training_target_accuracy):\n",
    "\n",
    "    # start a training run by defining an experiment\n",
    "    experiment = Experiment(ws, experiment_name)\n",
    "\n",
    "    # Configure the automated ML job\n",
    "    # The model training is configured to run on the local machine\n",
    "    # The values for all settings are documented at \n",
    "    # https://docs.microsoft.com/en-us/azure/machine-learning/service/how-to-configure-auto-train\n",
    "    # We no longer have to scale the input values, as Auto ML will try various data scaling approaches automatically\n",
    "    Automl_config = AutoMLConfig(task = 'classification',\n",
    "                             training_data = dataset, \n",
    "                             label_column_name = target_column_name, \n",
    "                             primary_metric = 'accuracy', \n",
    "                             preprocess=True, \n",
    "                             iteration_timeout_minutes = 3, \n",
    "                             iterations = 20, \n",
    "                             n_cross_validations = 3, \n",
    "                             experiment_exit_score = training_target_accuracy, \n",
    "                             blacklist_models = ['KNN'], \n",
    "                             path='./04-automl/outputs')\n",
    "\n",
    "    # Execute the job\n",
    "    run = experiment.submit(Automl_config, show_output=True)\n",
    "\n",
    "    # Get the run with the highest accuracy value.\n",
    "    best_run, best_model = run.get_output()\n",
    "\n",
    "    return (best_model, run, best_run)"
   ]
  },
  {
   "cell_type": "markdown",
   "metadata": {},
   "source": [
    "# Step 3 - Execute the AutoML driven training #"
   ]
  },
  {
   "cell_type": "code",
   "execution_count": null,
   "metadata": {},
   "outputs": [],
   "source": [
    "experiment_name = \"Experiment-AutoML-04\"\n",
    "training_target_accuracy = 0.93\n",
    "\n",
    "best_model, run, best_run = auto_train_model(ws, \n",
    "                                             experiment_name, \n",
    "                                             dataset, \n",
    "                                             target_column_name, \n",
    "                                             training_target_accuracy)\n",
    "\n",
    "# Examine some of the metrics for the best performing run\n",
    "import pprint\n",
    "pprint.pprint({k: v for k, v in best_run.get_metrics().items() if isinstance(v, float)})"
   ]
  },
  {
   "cell_type": "markdown",
   "metadata": {},
   "source": [
    "# Step 4 - Try the best model #"
   ]
  },
  {
   "cell_type": "code",
   "execution_count": null,
   "metadata": {},
   "outputs": [],
   "source": [
    "age1 = 60\n",
    "km1 = 40000\n",
    "age2 = 23\n",
    "km2 = 100000\n",
    "\n",
    "inputs = [[age1, km1], [age2, km2]]\n",
    "data_df = pd.DataFrame(np.array(inputs).reshape(-1, 2), columns = ['Age', 'KM'])\n",
    "print(data_df)\n",
    "print('')\n",
    "print('Predictions: ', best_model.predict(data_df))"
   ]
  },
  {
   "cell_type": "markdown",
   "metadata": {},
   "source": [
    "# Step 5 - Register the best performing model for later use and deployment #"
   ]
  },
  {
   "cell_type": "code",
   "execution_count": null,
   "metadata": {},
   "outputs": [],
   "source": [
    "model_name = 'usedcarsmodel'\n",
    "description = 'AutoML trained used cars classifier'\n",
    "\n",
    "run.register_model(model_name, description=description)"
   ]
  },
  {
   "cell_type": "code",
   "execution_count": null,
   "metadata": {},
   "outputs": [],
   "source": []
  }
 ],
 "metadata": {
  "kernelspec": {
   "display_name": "Python 3.6 - AzureML",
   "language": "python",
   "name": "python3-azureml"
  },
  "language_info": {
   "codemirror_mode": {
    "name": "ipython",
    "version": 3
   },
   "file_extension": ".py",
   "mimetype": "text/x-python",
   "name": "python",
   "nbconvert_exporter": "python",
   "pygments_lexer": "ipython3",
   "version": "3.6.9"
  }
 },
 "nbformat": 4,
 "nbformat_minor": 2
}
